{
  "nbformat": 4,
  "nbformat_minor": 0,
  "metadata": {
    "colab": {
      "provenance": [],
      "authorship_tag": "ABX9TyPRg6RfYYrzdM6rBVUwgr+K",
      "include_colab_link": true
    },
    "kernelspec": {
      "name": "python3",
      "display_name": "Python 3"
    },
    "language_info": {
      "name": "python"
    }
  },
  "cells": [
    {
      "cell_type": "markdown",
      "metadata": {
        "id": "view-in-github",
        "colab_type": "text"
      },
      "source": [
        "<a href=\"https://colab.research.google.com/github/joyce-ol/chinook_database_overview/blob/main/chinook_sqlite_joyce.ipynb\" target=\"_parent\"><img src=\"https://colab.research.google.com/assets/colab-badge.svg\" alt=\"Open In Colab\"/></a>"
      ]
    },
    {
      "cell_type": "code",
      "execution_count": null,
      "metadata": {
        "id": "Qqng11E6Rjpp"
      },
      "outputs": [],
      "source": [
        "\n",
        "# Import necessary libraries\n",
        "import sqlite3\n",
        "import pandas as pd\n",
        "\n",
        "\n"
      ]
    },
    {
      "cell_type": "code",
      "source": [
        "# Connect to the SQLite database\n",
        "conn = sqlite3.connect('Chinook_Sqlite.sqlite')\n",
        "cursor = conn.cursor()\n",
        "print (\"connected to the database sucessfully\")"
      ],
      "metadata": {
        "colab": {
          "base_uri": "https://localhost:8080/"
        },
        "id": "q8_Xm22gI9XU",
        "outputId": "da59f6b0-e6c5-4e0e-8645-a563892969a2"
      },
      "execution_count": null,
      "outputs": [
        {
          "output_type": "stream",
          "name": "stdout",
          "text": [
            "connected to the database sucessfully\n"
          ]
        }
      ]
    },
    {
      "cell_type": "code",
      "source": [
        "import sqlite3\n",
        "import pandas as pd\n",
        "\n",
        "# Connect to the SQLite database\n",
        "conn = sqlite3.connect('Chinook_Sqlite.sqlite')\n",
        "\n",
        "# Execute a query\n",
        "query = \"SELECT * FROM sqlite_master where type='table'\"\n",
        "\n",
        "df = pd.read_sql_query(query, conn)\n",
        "df[['type','name']]"
      ],
      "metadata": {
        "colab": {
          "base_uri": "https://localhost:8080/",
          "height": 394
        },
        "id": "yw08LCIMQbgy",
        "outputId": "764a4752-7b99-421d-b69b-482d4093a9ac"
      },
      "execution_count": null,
      "outputs": [
        {
          "output_type": "execute_result",
          "data": {
            "text/plain": [
              "     type           name\n",
              "0   table          Album\n",
              "1   table         Artist\n",
              "2   table       Customer\n",
              "3   table       Employee\n",
              "4   table          Genre\n",
              "5   table        Invoice\n",
              "6   table    InvoiceLine\n",
              "7   table      MediaType\n",
              "8   table       Playlist\n",
              "9   table  PlaylistTrack\n",
              "10  table          Track"
            ],
            "text/html": [
              "\n",
              "  <div id=\"df-7a51aa8e-7191-4beb-8e3c-edc8ea788dba\" class=\"colab-df-container\">\n",
              "    <div>\n",
              "<style scoped>\n",
              "    .dataframe tbody tr th:only-of-type {\n",
              "        vertical-align: middle;\n",
              "    }\n",
              "\n",
              "    .dataframe tbody tr th {\n",
              "        vertical-align: top;\n",
              "    }\n",
              "\n",
              "    .dataframe thead th {\n",
              "        text-align: right;\n",
              "    }\n",
              "</style>\n",
              "<table border=\"1\" class=\"dataframe\">\n",
              "  <thead>\n",
              "    <tr style=\"text-align: right;\">\n",
              "      <th></th>\n",
              "      <th>type</th>\n",
              "      <th>name</th>\n",
              "    </tr>\n",
              "  </thead>\n",
              "  <tbody>\n",
              "    <tr>\n",
              "      <th>0</th>\n",
              "      <td>table</td>\n",
              "      <td>Album</td>\n",
              "    </tr>\n",
              "    <tr>\n",
              "      <th>1</th>\n",
              "      <td>table</td>\n",
              "      <td>Artist</td>\n",
              "    </tr>\n",
              "    <tr>\n",
              "      <th>2</th>\n",
              "      <td>table</td>\n",
              "      <td>Customer</td>\n",
              "    </tr>\n",
              "    <tr>\n",
              "      <th>3</th>\n",
              "      <td>table</td>\n",
              "      <td>Employee</td>\n",
              "    </tr>\n",
              "    <tr>\n",
              "      <th>4</th>\n",
              "      <td>table</td>\n",
              "      <td>Genre</td>\n",
              "    </tr>\n",
              "    <tr>\n",
              "      <th>5</th>\n",
              "      <td>table</td>\n",
              "      <td>Invoice</td>\n",
              "    </tr>\n",
              "    <tr>\n",
              "      <th>6</th>\n",
              "      <td>table</td>\n",
              "      <td>InvoiceLine</td>\n",
              "    </tr>\n",
              "    <tr>\n",
              "      <th>7</th>\n",
              "      <td>table</td>\n",
              "      <td>MediaType</td>\n",
              "    </tr>\n",
              "    <tr>\n",
              "      <th>8</th>\n",
              "      <td>table</td>\n",
              "      <td>Playlist</td>\n",
              "    </tr>\n",
              "    <tr>\n",
              "      <th>9</th>\n",
              "      <td>table</td>\n",
              "      <td>PlaylistTrack</td>\n",
              "    </tr>\n",
              "    <tr>\n",
              "      <th>10</th>\n",
              "      <td>table</td>\n",
              "      <td>Track</td>\n",
              "    </tr>\n",
              "  </tbody>\n",
              "</table>\n",
              "</div>\n",
              "    <div class=\"colab-df-buttons\">\n",
              "\n",
              "  <div class=\"colab-df-container\">\n",
              "    <button class=\"colab-df-convert\" onclick=\"convertToInteractive('df-7a51aa8e-7191-4beb-8e3c-edc8ea788dba')\"\n",
              "            title=\"Convert this dataframe to an interactive table.\"\n",
              "            style=\"display:none;\">\n",
              "\n",
              "  <svg xmlns=\"http://www.w3.org/2000/svg\" height=\"24px\" viewBox=\"0 -960 960 960\">\n",
              "    <path d=\"M120-120v-720h720v720H120Zm60-500h600v-160H180v160Zm220 220h160v-160H400v160Zm0 220h160v-160H400v160ZM180-400h160v-160H180v160Zm440 0h160v-160H620v160ZM180-180h160v-160H180v160Zm440 0h160v-160H620v160Z\"/>\n",
              "  </svg>\n",
              "    </button>\n",
              "\n",
              "  <style>\n",
              "    .colab-df-container {\n",
              "      display:flex;\n",
              "      gap: 12px;\n",
              "    }\n",
              "\n",
              "    .colab-df-convert {\n",
              "      background-color: #E8F0FE;\n",
              "      border: none;\n",
              "      border-radius: 50%;\n",
              "      cursor: pointer;\n",
              "      display: none;\n",
              "      fill: #1967D2;\n",
              "      height: 32px;\n",
              "      padding: 0 0 0 0;\n",
              "      width: 32px;\n",
              "    }\n",
              "\n",
              "    .colab-df-convert:hover {\n",
              "      background-color: #E2EBFA;\n",
              "      box-shadow: 0px 1px 2px rgba(60, 64, 67, 0.3), 0px 1px 3px 1px rgba(60, 64, 67, 0.15);\n",
              "      fill: #174EA6;\n",
              "    }\n",
              "\n",
              "    .colab-df-buttons div {\n",
              "      margin-bottom: 4px;\n",
              "    }\n",
              "\n",
              "    [theme=dark] .colab-df-convert {\n",
              "      background-color: #3B4455;\n",
              "      fill: #D2E3FC;\n",
              "    }\n",
              "\n",
              "    [theme=dark] .colab-df-convert:hover {\n",
              "      background-color: #434B5C;\n",
              "      box-shadow: 0px 1px 3px 1px rgba(0, 0, 0, 0.15);\n",
              "      filter: drop-shadow(0px 1px 2px rgba(0, 0, 0, 0.3));\n",
              "      fill: #FFFFFF;\n",
              "    }\n",
              "  </style>\n",
              "\n",
              "    <script>\n",
              "      const buttonEl =\n",
              "        document.querySelector('#df-7a51aa8e-7191-4beb-8e3c-edc8ea788dba button.colab-df-convert');\n",
              "      buttonEl.style.display =\n",
              "        google.colab.kernel.accessAllowed ? 'block' : 'none';\n",
              "\n",
              "      async function convertToInteractive(key) {\n",
              "        const element = document.querySelector('#df-7a51aa8e-7191-4beb-8e3c-edc8ea788dba');\n",
              "        const dataTable =\n",
              "          await google.colab.kernel.invokeFunction('convertToInteractive',\n",
              "                                                    [key], {});\n",
              "        if (!dataTable) return;\n",
              "\n",
              "        const docLinkHtml = 'Like what you see? Visit the ' +\n",
              "          '<a target=\"_blank\" href=https://colab.research.google.com/notebooks/data_table.ipynb>data table notebook</a>'\n",
              "          + ' to learn more about interactive tables.';\n",
              "        element.innerHTML = '';\n",
              "        dataTable['output_type'] = 'display_data';\n",
              "        await google.colab.output.renderOutput(dataTable, element);\n",
              "        const docLink = document.createElement('div');\n",
              "        docLink.innerHTML = docLinkHtml;\n",
              "        element.appendChild(docLink);\n",
              "      }\n",
              "    </script>\n",
              "  </div>\n",
              "\n",
              "\n",
              "<div id=\"df-37aa00da-c447-4120-aef7-244a34b6a5e8\">\n",
              "  <button class=\"colab-df-quickchart\" onclick=\"quickchart('df-37aa00da-c447-4120-aef7-244a34b6a5e8')\"\n",
              "            title=\"Suggest charts\"\n",
              "            style=\"display:none;\">\n",
              "\n",
              "<svg xmlns=\"http://www.w3.org/2000/svg\" height=\"24px\"viewBox=\"0 0 24 24\"\n",
              "     width=\"24px\">\n",
              "    <g>\n",
              "        <path d=\"M19 3H5c-1.1 0-2 .9-2 2v14c0 1.1.9 2 2 2h14c1.1 0 2-.9 2-2V5c0-1.1-.9-2-2-2zM9 17H7v-7h2v7zm4 0h-2V7h2v10zm4 0h-2v-4h2v4z\"/>\n",
              "    </g>\n",
              "</svg>\n",
              "  </button>\n",
              "\n",
              "<style>\n",
              "  .colab-df-quickchart {\n",
              "      --bg-color: #E8F0FE;\n",
              "      --fill-color: #1967D2;\n",
              "      --hover-bg-color: #E2EBFA;\n",
              "      --hover-fill-color: #174EA6;\n",
              "      --disabled-fill-color: #AAA;\n",
              "      --disabled-bg-color: #DDD;\n",
              "  }\n",
              "\n",
              "  [theme=dark] .colab-df-quickchart {\n",
              "      --bg-color: #3B4455;\n",
              "      --fill-color: #D2E3FC;\n",
              "      --hover-bg-color: #434B5C;\n",
              "      --hover-fill-color: #FFFFFF;\n",
              "      --disabled-bg-color: #3B4455;\n",
              "      --disabled-fill-color: #666;\n",
              "  }\n",
              "\n",
              "  .colab-df-quickchart {\n",
              "    background-color: var(--bg-color);\n",
              "    border: none;\n",
              "    border-radius: 50%;\n",
              "    cursor: pointer;\n",
              "    display: none;\n",
              "    fill: var(--fill-color);\n",
              "    height: 32px;\n",
              "    padding: 0;\n",
              "    width: 32px;\n",
              "  }\n",
              "\n",
              "  .colab-df-quickchart:hover {\n",
              "    background-color: var(--hover-bg-color);\n",
              "    box-shadow: 0 1px 2px rgba(60, 64, 67, 0.3), 0 1px 3px 1px rgba(60, 64, 67, 0.15);\n",
              "    fill: var(--button-hover-fill-color);\n",
              "  }\n",
              "\n",
              "  .colab-df-quickchart-complete:disabled,\n",
              "  .colab-df-quickchart-complete:disabled:hover {\n",
              "    background-color: var(--disabled-bg-color);\n",
              "    fill: var(--disabled-fill-color);\n",
              "    box-shadow: none;\n",
              "  }\n",
              "\n",
              "  .colab-df-spinner {\n",
              "    border: 2px solid var(--fill-color);\n",
              "    border-color: transparent;\n",
              "    border-bottom-color: var(--fill-color);\n",
              "    animation:\n",
              "      spin 1s steps(1) infinite;\n",
              "  }\n",
              "\n",
              "  @keyframes spin {\n",
              "    0% {\n",
              "      border-color: transparent;\n",
              "      border-bottom-color: var(--fill-color);\n",
              "      border-left-color: var(--fill-color);\n",
              "    }\n",
              "    20% {\n",
              "      border-color: transparent;\n",
              "      border-left-color: var(--fill-color);\n",
              "      border-top-color: var(--fill-color);\n",
              "    }\n",
              "    30% {\n",
              "      border-color: transparent;\n",
              "      border-left-color: var(--fill-color);\n",
              "      border-top-color: var(--fill-color);\n",
              "      border-right-color: var(--fill-color);\n",
              "    }\n",
              "    40% {\n",
              "      border-color: transparent;\n",
              "      border-right-color: var(--fill-color);\n",
              "      border-top-color: var(--fill-color);\n",
              "    }\n",
              "    60% {\n",
              "      border-color: transparent;\n",
              "      border-right-color: var(--fill-color);\n",
              "    }\n",
              "    80% {\n",
              "      border-color: transparent;\n",
              "      border-right-color: var(--fill-color);\n",
              "      border-bottom-color: var(--fill-color);\n",
              "    }\n",
              "    90% {\n",
              "      border-color: transparent;\n",
              "      border-bottom-color: var(--fill-color);\n",
              "    }\n",
              "  }\n",
              "</style>\n",
              "\n",
              "  <script>\n",
              "    async function quickchart(key) {\n",
              "      const quickchartButtonEl =\n",
              "        document.querySelector('#' + key + ' button');\n",
              "      quickchartButtonEl.disabled = true;  // To prevent multiple clicks.\n",
              "      quickchartButtonEl.classList.add('colab-df-spinner');\n",
              "      try {\n",
              "        const charts = await google.colab.kernel.invokeFunction(\n",
              "            'suggestCharts', [key], {});\n",
              "      } catch (error) {\n",
              "        console.error('Error during call to suggestCharts:', error);\n",
              "      }\n",
              "      quickchartButtonEl.classList.remove('colab-df-spinner');\n",
              "      quickchartButtonEl.classList.add('colab-df-quickchart-complete');\n",
              "    }\n",
              "    (() => {\n",
              "      let quickchartButtonEl =\n",
              "        document.querySelector('#df-37aa00da-c447-4120-aef7-244a34b6a5e8 button');\n",
              "      quickchartButtonEl.style.display =\n",
              "        google.colab.kernel.accessAllowed ? 'block' : 'none';\n",
              "    })();\n",
              "  </script>\n",
              "</div>\n",
              "\n",
              "    </div>\n",
              "  </div>\n"
            ],
            "application/vnd.google.colaboratory.intrinsic+json": {
              "type": "dataframe",
              "summary": "{\n  \"name\": \"df[['type','name']]\",\n  \"rows\": 11,\n  \"fields\": [\n    {\n      \"column\": \"type\",\n      \"properties\": {\n        \"dtype\": \"category\",\n        \"num_unique_values\": 1,\n        \"samples\": [\n          \"table\"\n        ],\n        \"semantic_type\": \"\",\n        \"description\": \"\"\n      }\n    },\n    {\n      \"column\": \"name\",\n      \"properties\": {\n        \"dtype\": \"string\",\n        \"num_unique_values\": 11,\n        \"samples\": [\n          \"Invoice\"\n        ],\n        \"semantic_type\": \"\",\n        \"description\": \"\"\n      }\n    }\n  ]\n}"
            }
          },
          "metadata": {},
          "execution_count": 5
        }
      ]
    },
    {
      "cell_type": "code",
      "source": [
        "# Read the first five rows from the Album table\n",
        "df = pd.read_sql_query(\"SELECT * FROM Album limit 5\", conn)\n",
        "print(df)\n"
      ],
      "metadata": {
        "colab": {
          "base_uri": "https://localhost:8080/"
        },
        "id": "ZPaVNKx8Qfqc",
        "outputId": "cdc57a20-a856-4104-b8d7-1c7be427a8ae"
      },
      "execution_count": null,
      "outputs": [
        {
          "output_type": "stream",
          "name": "stdout",
          "text": [
            "   AlbumId                                  Title  ArtistId\n",
            "0        1  For Those About To Rock We Salute You         1\n",
            "1        2                      Balls to the Wall         2\n",
            "2        3                      Restless and Wild         2\n",
            "3        4                      Let There Be Rock         1\n",
            "4        5                               Big Ones         3\n"
          ]
        }
      ]
    },
    {
      "cell_type": "markdown",
      "source": [
        "ANSWER TO QUESTION 1."
      ],
      "metadata": {
        "id": "C9_rsA4IUKik"
      }
    },
    {
      "cell_type": "code",
      "source": [
        "\n",
        "# a query to list all tables in the Chinook database\n",
        "query = \"SELECT name FROM sqlite_master WHERE type = 'table'\"\n",
        "df = pd.read_sql_query(query, conn)\n",
        "print(df)"
      ],
      "metadata": {
        "colab": {
          "base_uri": "https://localhost:8080/"
        },
        "id": "eWsPBSCNQ54v",
        "outputId": "88fa47bd-d32c-4cd1-b6d1-6e416cf4a8ea"
      },
      "execution_count": null,
      "outputs": [
        {
          "output_type": "stream",
          "name": "stdout",
          "text": [
            "             name\n",
            "0           Album\n",
            "1          Artist\n",
            "2        Customer\n",
            "3        Employee\n",
            "4           Genre\n",
            "5         Invoice\n",
            "6     InvoiceLine\n",
            "7       MediaType\n",
            "8        Playlist\n",
            "9   PlaylistTrack\n",
            "10          Track\n"
          ]
        }
      ]
    },
    {
      "cell_type": "markdown",
      "source": [
        "ANSWER TO QUESTION 2"
      ],
      "metadata": {
        "id": "FSQohbk8VvLR"
      }
    },
    {
      "cell_type": "code",
      "source": [
        "#a query to retrieve the top 10 records from the Albums table.\n",
        "query = \"SELECT *FROM Album limit 10\"\n",
        "df = pd.read_sql_query(query, conn)\n",
        "print(df)\n"
      ],
      "metadata": {
        "colab": {
          "base_uri": "https://localhost:8080/"
        },
        "id": "2ZqUbQYjUgop",
        "outputId": "05792918-9403-4847-9903-c5ae8ed98758"
      },
      "execution_count": null,
      "outputs": [
        {
          "output_type": "stream",
          "name": "stdout",
          "text": [
            "   AlbumId                                  Title  ArtistId\n",
            "0        1  For Those About To Rock We Salute You         1\n",
            "1        2                      Balls to the Wall         2\n",
            "2        3                      Restless and Wild         2\n",
            "3        4                      Let There Be Rock         1\n",
            "4        5                               Big Ones         3\n",
            "5        6                     Jagged Little Pill         4\n",
            "6        7                               Facelift         5\n",
            "7        8                         Warner 25 Anos         6\n",
            "8        9         Plays Metallica By Four Cellos         7\n",
            "9       10                             Audioslave         8\n"
          ]
        }
      ]
    },
    {
      "cell_type": "markdown",
      "source": [
        "ANSWER TO QUESTION 3"
      ],
      "metadata": {
        "id": "B857-YKWdrDF"
      }
    },
    {
      "cell_type": "markdown",
      "source": [
        "Count the Number of Tracks per Genre"
      ],
      "metadata": {
        "id": "UESSLBTUABCN"
      }
    },
    {
      "cell_type": "code",
      "source": [
        "import sqlite3\n",
        "import pandas as pd\n",
        "# Connect to the database\n",
        "conn = sqlite3.connect('Chinook_Sqlite.sqlite')\n",
        "\n",
        "# Execute the query\n",
        "query = \"\"\"\n",
        "SELECT g.Name AS Genre, COUNT(t.TrackId) AS TrackCount\n",
        "FROM Genre g\n",
        "JOIN Track t ON g.GenreId = t.GenreId\n",
        "GROUP BY g.GenreId, g.Name\n",
        "ORDER BY TrackCount DESC limit 5;\n",
        "\"\"\"\n",
        "\n",
        "df = pd.read_sql_query(query, conn)\n",
        "print(df)\n"
      ],
      "metadata": {
        "colab": {
          "base_uri": "https://localhost:8080/"
        },
        "id": "11BWXo9pX4fZ",
        "outputId": "a3cdc659-2141-4d07-a973-f1fd6f13b475"
      },
      "execution_count": null,
      "outputs": [
        {
          "output_type": "stream",
          "name": "stdout",
          "text": [
            "                Genre  TrackCount\n",
            "0                Rock        1297\n",
            "1               Latin         579\n",
            "2               Metal         374\n",
            "3  Alternative & Punk         332\n",
            "4                Jazz         130\n"
          ]
        }
      ]
    },
    {
      "cell_type": "markdown",
      "source": [
        "ANSWER TO QUESTION 4"
      ],
      "metadata": {
        "id": "IbvJ_ISOfv9b"
      }
    },
    {
      "cell_type": "markdown",
      "source": [
        " Calculate the Total Sales by Country"
      ],
      "metadata": {
        "id": "DD9_Ce8IAKlK"
      }
    },
    {
      "cell_type": "code",
      "source": [
        "import sqlite3\n",
        "import pandas as pd\n",
        "# Connect to the database\n",
        "conn = sqlite3.connect('Chinook_Sqlite.sqlite')\n",
        "query = \"\"\"\n",
        "select BillingCountry AS country,\n",
        "sum(Total)AS TotalSales\n",
        "from Invoice\n",
        "group by BillingCountry\n",
        "order by TotalSales desc\n",
        "limit 5\n",
        "\"\"\"\n",
        "\n",
        "df = pd.read_sql_query(query, conn)\n",
        "print(df)"
      ],
      "metadata": {
        "colab": {
          "base_uri": "https://localhost:8080/"
        },
        "id": "lffOeZ4OgQ-z",
        "outputId": "c299a251-b85a-4e05-aad3-60354236ecb4"
      },
      "execution_count": null,
      "outputs": [
        {
          "output_type": "stream",
          "name": "stdout",
          "text": [
            "   country  TotalSales\n",
            "0      USA      523.06\n",
            "1   Canada      303.96\n",
            "2   France      195.10\n",
            "3   Brazil      190.10\n",
            "4  Germany      156.48\n"
          ]
        }
      ]
    },
    {
      "cell_type": "markdown",
      "source": [
        "ANSWER TO QUESTION 5"
      ],
      "metadata": {
        "id": "nqIZUOKwCZ9C"
      }
    },
    {
      "cell_type": "markdown",
      "source": [
        " a query to identify the top 5 customers by total purchase amount."
      ],
      "metadata": {
        "id": "G8-NtDkoCpPL"
      }
    },
    {
      "cell_type": "code",
      "source": [
        "query = \"\"\"\n",
        "SELECT c.CustomerId, c.FirstName || ' ' || c.LastName AS CustomerName,\n",
        "       SUM(i.Total) AS TotalPurchase\n",
        "FROM Customer c\n",
        "JOIN Invoice i ON c.CustomerId = i.CustomerId\n",
        "GROUP BY c.CustomerId, CustomerName\n",
        "ORDER BY TotalPurchase DESC\n",
        "LIMIT 5;\n",
        "\"\"\"\n",
        "df = pd.read_sql_query(query, conn)\n",
        "print(df)"
      ],
      "metadata": {
        "colab": {
          "base_uri": "https://localhost:8080/"
        },
        "id": "Bz0kHCTjCto7",
        "outputId": "9287533b-2f5d-46d7-d586-6d2d49ccb38a"
      },
      "execution_count": null,
      "outputs": [
        {
          "output_type": "stream",
          "name": "stdout",
          "text": [
            "   CustomerId        CustomerName  TotalPurchase\n",
            "0           6         Helena Holý          49.62\n",
            "1          26  Richard Cunningham          47.62\n",
            "2          57          Luis Rojas          46.62\n",
            "3          45     Ladislav Kovács          45.62\n",
            "4          46       Hugh O'Reilly          45.62\n"
          ]
        }
      ]
    },
    {
      "cell_type": "markdown",
      "source": [
        "ANSWER TO QUESTION 5\n",
        "a query to find the most popular artist by total track sales"
      ],
      "metadata": {
        "id": "YK0zqHDEE0QT"
      }
    },
    {
      "cell_type": "code",
      "source": [
        "query = \"\"\"\n",
        "SELECT ar.Name AS ArtistName, COUNT(il.TrackId) AS TotalTracksSold\n",
        "FROM InvoiceLine il\n",
        "JOIN Track t ON il.TrackId = t.TrackId\n",
        "JOIN Album al ON t.AlbumId = al.AlbumId\n",
        "JOIN Artist ar ON al.ArtistId = ar.ArtistId\n",
        "GROUP BY ar.ArtistId\n",
        "ORDER BY TotalTracksSold DESC\n",
        "LIMIT 1;\n",
        "\"\"\"\n",
        "df= pd.read_sql_query(query, conn)\n",
        "print(df)\n"
      ],
      "metadata": {
        "colab": {
          "base_uri": "https://localhost:8080/"
        },
        "id": "eYpBc9iPE9h3",
        "outputId": "2a4ad310-1596-4850-809e-18289cc8877a"
      },
      "execution_count": null,
      "outputs": [
        {
          "output_type": "stream",
          "name": "stdout",
          "text": [
            "    ArtistName  TotalTracksSold\n",
            "0  Iron Maiden              140\n"
          ]
        }
      ]
    },
    {
      "cell_type": "markdown",
      "source": [
        "ANSWER TO QUESTION 6   \n",
        "query to find the most popular artist by total track sales."
      ],
      "metadata": {
        "id": "XS6p5GPEGs1T"
      }
    },
    {
      "cell_type": "code",
      "source": [
        "query = \"\"\"\n",
        "SELECT e.EmployeeId, e.FirstName || ' ' || e.LastName AS EmployeeName,\n",
        "       SUM(i.Total) AS TotalSales\n",
        "FROM Employee e\n",
        "JOIN Customer c ON e.EmployeeId = c.SupportRepId\n",
        "JOIN Invoice i ON c.CustomerId = i.CustomerId\n",
        "GROUP BY e.EmployeeId\n",
        "ORDER BY TotalSales DESC;\n",
        "\"\"\"\n",
        "df = pd.read_sql_query(query, conn)\n",
        "print(df)"
      ],
      "metadata": {
        "colab": {
          "base_uri": "https://localhost:8080/"
        },
        "id": "z_8HaxGDGr4S",
        "outputId": "86f31453-fc3e-4b04-8743-af657ebbafe0"
      },
      "execution_count": null,
      "outputs": [
        {
          "output_type": "stream",
          "name": "stdout",
          "text": [
            "   EmployeeId   EmployeeName  TotalSales\n",
            "0           3   Jane Peacock      833.04\n",
            "1           4  Margaret Park      775.40\n",
            "2           5  Steve Johnson      720.16\n"
          ]
        }
      ]
    },
    {
      "cell_type": "markdown",
      "source": [
        "ANSWER TO QUESTION 7\n",
        "Determine the Average Invoice Total by Customer Country"
      ],
      "metadata": {
        "id": "1l351_wdHYqY"
      }
    },
    {
      "cell_type": "code",
      "source": [
        "query = \"\"\"\n",
        "SELECT BillingCountry AS Country,\n",
        "       AVG(Total) AS AvgInvoiceTotal\n",
        "FROM Invoice\n",
        "GROUP BY BillingCountry\n",
        "ORDER BY AvgInvoiceTotal DESC;\n",
        "\"\"\"\n",
        "df = pd.read_sql_query(query, conn)\n",
        "print(df)\n"
      ],
      "metadata": {
        "id": "_QeWD_vnHg4v"
      },
      "execution_count": null,
      "outputs": []
    },
    {
      "cell_type": "markdown",
      "source": [
        "Question 8:\n",
        "A query to Analyze Employee Sales Performance"
      ],
      "metadata": {
        "id": "MdBH68vpH4oz"
      }
    },
    {
      "cell_type": "code",
      "source": [
        "#a query to analyze the sales performance of each employee\n",
        "query = \"\"\"\n",
        "SELECT e.EmployeeId, e.FirstName || ' ' || e.LastName AS EmployeeName,\n",
        "       SUM(i.Total) AS TotalSales\n",
        "FROM Employee e\n",
        "JOIN Customer c ON e.EmployeeId = c.SupportRepId\n",
        "JOIN Invoice i ON c.CustomerId = i.CustomerId\n",
        "GROUP BY e.EmployeeId\n",
        "ORDER BY TotalSales DESC;\n",
        "\"\"\"\n",
        "df = pd.read_sql_query(query, conn)\n",
        "print(df)"
      ],
      "metadata": {
        "colab": {
          "base_uri": "https://localhost:8080/"
        },
        "id": "LQghaCDsIDce",
        "outputId": "3db86956-187a-4029-a39f-30f3136f5c19"
      },
      "execution_count": null,
      "outputs": [
        {
          "output_type": "stream",
          "name": "stdout",
          "text": [
            "   EmployeeId   EmployeeName  TotalSales\n",
            "0           3   Jane Peacock      833.04\n",
            "1           4  Margaret Park      775.40\n",
            "2           5  Steve Johnson      720.16\n"
          ]
        }
      ]
    },
    {
      "cell_type": "markdown",
      "source": [
        "Question 9:\n",
        "Identify Trends in Monthly Sales"
      ],
      "metadata": {
        "id": "L4a7QCJcJqq4"
      }
    },
    {
      "cell_type": "code",
      "source": [
        "# a query to identify trends in monthly sales.\n",
        "query = \"\"\"\n",
        "SELECT strftime('%Y-%m', InvoiceDate) AS YearMonth,\n",
        "       SUM(Total) AS MonthlySales\n",
        "FROM Invoice\n",
        "GROUP BY YearMonth\n",
        "ORDER BY YearMonth;\n",
        "\"\"\"\n",
        "df = pd.read_sql_query(query, conn)\n",
        "print(df)"
      ],
      "metadata": {
        "colab": {
          "base_uri": "https://localhost:8080/"
        },
        "id": "E9c3SVjpJss4",
        "outputId": "ae59f581-9198-4c9e-e384-60a5b2fba638"
      },
      "execution_count": null,
      "outputs": [
        {
          "output_type": "stream",
          "name": "stdout",
          "text": [
            "   YearMonth  MonthlySales\n",
            "0    2009-01         35.64\n",
            "1    2009-02         37.62\n",
            "2    2009-03         37.62\n",
            "3    2009-04         37.62\n",
            "4    2009-05         37.62\n",
            "5    2009-06         37.62\n",
            "6    2009-07         37.62\n",
            "7    2009-08         37.62\n",
            "8    2009-09         37.62\n",
            "9    2009-10         37.62\n",
            "10   2009-11         37.62\n",
            "11   2009-12         37.62\n",
            "12   2010-01         52.62\n",
            "13   2010-02         46.62\n",
            "14   2010-03         44.62\n",
            "15   2010-04         37.62\n",
            "16   2010-05         37.62\n",
            "17   2010-06         37.62\n",
            "18   2010-07         37.62\n",
            "19   2010-08         37.62\n",
            "20   2010-09         36.63\n",
            "21   2010-10         37.62\n",
            "22   2010-11         37.62\n",
            "23   2010-12         37.62\n",
            "24   2011-01         37.62\n",
            "25   2011-02         37.62\n",
            "26   2011-03         37.62\n",
            "27   2011-04         51.62\n",
            "28   2011-05         42.62\n",
            "29   2011-06         50.62\n",
            "30   2011-07         37.62\n",
            "31   2011-08         37.62\n",
            "32   2011-09         37.62\n",
            "33   2011-10         37.62\n",
            "34   2011-11         23.76\n",
            "35   2011-12         37.62\n",
            "36   2012-01         37.62\n",
            "37   2012-02         37.62\n",
            "38   2012-03         37.62\n",
            "39   2012-04         37.62\n",
            "40   2012-05         37.62\n",
            "41   2012-06         37.62\n",
            "42   2012-07         39.62\n",
            "43   2012-08         47.62\n",
            "44   2012-09         46.71\n",
            "45   2012-10         42.62\n",
            "46   2012-11         37.62\n",
            "47   2012-12         37.62\n",
            "48   2013-01         37.62\n",
            "49   2013-02         27.72\n",
            "50   2013-03         37.62\n",
            "51   2013-04         33.66\n",
            "52   2013-05         37.62\n",
            "53   2013-06         37.62\n",
            "54   2013-07         37.62\n",
            "55   2013-08         37.62\n",
            "56   2013-09         37.62\n",
            "57   2013-10         37.62\n",
            "58   2013-11         49.62\n",
            "59   2013-12         38.62\n"
          ]
        }
      ]
    },
    {
      "cell_type": "markdown",
      "source": [
        "Question 10: Recommend Marketing Strategies Based on Data Insights"
      ],
      "metadata": {
        "id": "nssaUubpLbvE"
      }
    },
    {
      "cell_type": "markdown",
      "source": [
        "Optimize Sales by Country\n",
        "\n",
        "\n",
        " Insight: The USA, Canada, and France have the highest total sales.\n",
        "Strategy:\n",
        "\n",
        "1.  Run geo-targeted ads in these countries to boost sales.\n",
        "2.  Offer regional promotions like country-specific discounts or curated playlist\n",
        "3. Analyze why some countries have lower sales and adjust pricing or content accordingly.\n",
        "\n",
        "\n",
        "\n",
        "\n",
        "\n"
      ],
      "metadata": {
        "id": "TCCSEaqVLcio"
      }
    },
    {
      "cell_type": "markdown",
      "source": [
        "Increase Track Sales with Bundled Offers\n",
        "\n",
        "Insight: Customers buy tracks individually, but bundling could increase revenue.Strategy:\n",
        "\n",
        "1. Offer discounted album bundles to encourage customers to buy full albums instead of single tracks.\n",
        "\n",
        "2. Run \"Buy 5 Tracks, Get 1 Free\" promotions to boost track sales."
      ],
      "metadata": {
        "id": "PuW3f1qzMEjo"
      }
    }
  ]
}